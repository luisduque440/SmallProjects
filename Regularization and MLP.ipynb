{
 "cells": [
  {
   "cell_type": "markdown",
   "metadata": {},
   "source": [
    "# Ridge and Lasso Regression"
   ]
  },
  {
   "cell_type": "markdown",
   "metadata": {},
   "source": [
    "The dataset consists of ten features and one target variable.  More information is found at http://scikit-learn.org/stable/datasets/index.html#diabetes-dataset\n",
    "\n",
    "After importing the datasets, add additional interaction variables to the features matrix.  You should have 55 variables (including 45 interaction variables) and one target variable. Add one term for every pair of variables; in practice one may introduce only a few select interaction terms based on domain knowledge or experimentation."
   ]
  },
  {
   "cell_type": "markdown",
   "metadata": {},
   "source": [
    "In this question, you will explore the application of Lasso and Ridge regression using sklearn package in Python. The following code will split the data into training and test set using [train_test_split](http://scikit-learn.org/stable/modules/generated/sklearn.model_selection.train_test_split.html) with **random state 20** and **test_size = 0.33**.  Note: lambda is called alpha in sklearn."
   ]
  },
  {
   "cell_type": "markdown",
   "metadata": {},
   "source": [
    "1) Use sklearn.linear_model.Lasso and sklearn.linear_model.Ridge classes to do a [5-fold cross validation](http://scikit-learn.org/stable/auto_examples/exercises/plot_cv_diabetes.html#example-exercises-plot-cv-diabetes-py) using sklearn's [KFold](http://scikit-learn.org/stable/modules/generated/sklearn.cross_validation.KFold.html). For the sweep of the regularization parameter, we will look at a grid of values ranging from $\\lambda = 10^{10}$ to $\\lambda = 10^{-2}$. In Python, you can consider this range of values as follows:\n",
    "\n",
    "      import numpy as np\n",
    "\n",
    "      alphas =  10**np.linspace(10,-2,100)*0.5\n",
    "\n",
    "  Report the best chosen $\\lambda$ based on cross validation. The cross validation should happen on your training data using  average MSE as the scoring metric. (5pts)\n",
    "\n",
    "2) Run ridge and lasso for all of the alphas specified above (on training data), and plot the coefficients learned for each of them - there should be one plot each for lasso and ridge, so a total of two plots; the plots for different features for a method should be on the same plot (e.g. Fig 6.6 of JW). What do you qualitatively observe when value of the regularization parameter is changed? (4pts)\n",
    "\n",
    "3) Run least squares regression, ridge, and lasso on the training data. For ridge and lasso, use only the best regularization parameter. Report the prediction error (MSE) on the test data for each. (3pts)\n",
    "\n",
    "4) Run lasso again with cross validation using [sklearn.linear_model.LassoCV](http://scikit-learn.org/stable/modules/generated/sklearn.linear_model.LassoCV.html). Set the cross validation parameters as follows:\n",
    "\n",
    "    LassoCV(alphas=None, cv=10, max_iter=10000)\n",
    "\n",
    "Report the best $\\lambda$ based on cross validation. Run lasso on the training data using the best $\\lambda$ and report the coefficeints for 55 variables. What do you observe from these coefficients? (3pts)"
   ]
  },
  {
   "cell_type": "markdown",
   "metadata": {},
   "source": [
    "## Solution\n",
    "\n",
    "### 1)"
   ]
  },
  {
   "cell_type": "code",
   "execution_count": 1,
   "metadata": {
    "collapsed": true
   },
   "outputs": [],
   "source": [
    "from sklearn import datasets\n",
    "diabetes = datasets.load_diabetes()\n",
    "X = diabetes.data\n",
    "y = diabetes.target"
   ]
  },
  {
   "cell_type": "code",
   "execution_count": 2,
   "metadata": {
    "collapsed": true
   },
   "outputs": [],
   "source": [
    "from sklearn.preprocessing import PolynomialFeatures\n",
    "X = PolynomialFeatures(2, interaction_only=True, include_bias=False).fit_transform(X)"
   ]
  },
  {
   "cell_type": "code",
   "execution_count": 3,
   "metadata": {},
   "outputs": [
    {
     "name": "stderr",
     "output_type": "stream",
     "text": [
      "/Users/kyungwoo/anaconda/lib/python2.7/site-packages/sklearn/cross_validation.py:44: DeprecationWarning: This module was deprecated in version 0.18 in favor of the model_selection module into which all the refactored classes and functions are moved. Also note that the interface of the new CV iterators are different from that of this module. This module will be removed in 0.20.\n",
      "  \"This module will be removed in 0.20.\", DeprecationWarning)\n"
     ]
    }
   ],
   "source": [
    "from sklearn.cross_validation import train_test_split\n",
    "X_train, X_test, y_train, y_test = train_test_split(X,y,test_size = 0.33, random_state=20)"
   ]
  },
  {
   "cell_type": "code",
   "execution_count": 4,
   "metadata": {},
   "outputs": [
    {
     "name": "stdout",
     "output_type": "stream",
     "text": [
      "Best lasso alpha: 0.00660970574233\n",
      "Best ridge alpha: 0.005\n"
     ]
    }
   ],
   "source": [
    "import pandas as pd\n",
    "from sklearn import cross_validation\n",
    "from sklearn import linear_model\n",
    "from sklearn.metrics import mean_squared_error, accuracy_score\n",
    "from sklearn.linear_model import LinearRegression, RidgeCV, LassoCV\n",
    "from sklearn.preprocessing import StandardScaler\n",
    "\n",
    "import numpy as np\n",
    "import matplotlib.pyplot as plt\n",
    "\n",
    "n_folds = 5\n",
    "k_fold = cross_validation.KFold(len(X_train), n_folds)\n",
    "lasso_alphas =  10**np.linspace(10,-2,100)*0.5\n",
    "lasso_avg_rmse = {}\n",
    "\n",
    "for alpha in lasso_alphas:\n",
    "    lasso = linear_model.Lasso(alpha=alpha)\n",
    "    avg_mse = 0\n",
    "    for k, (train, test) in enumerate(k_fold):\n",
    "        lasso.fit(X_train[train], y_train[train])\n",
    "        avg_mse = avg_mse + mean_squared_error(y_train[test], lasso.predict(X_train[test])) \n",
    "    lasso_avg_rmse[alpha] = avg_mse / n_folds\n",
    "best_alpha_lasso = min(lasso_avg_rmse, key=lasso_avg_rmse.get)\n",
    "print(\"Best lasso alpha: {}\".format(best_alpha_lasso))\n",
    "\n",
    "\n",
    "ridge_alphas =  10**np.linspace(10,-2,100)*0.5\n",
    "ridge_avg_rmse = {}\n",
    "\n",
    "for alpha in ridge_alphas:\n",
    "    ridge = linear_model.Ridge(alpha=alpha)\n",
    "    avg_mse = 0\n",
    "    for k, (train, test) in enumerate(k_fold):\n",
    "        ridge.fit(X_train[train], y_train[train])\n",
    "        avg_mse = avg_mse + mean_squared_error(y_train[test], ridge.predict(X_train[test])) \n",
    "    ridge_avg_rmse[alpha] = avg_mse / n_folds\n",
    "best_alpha_ridge = min(ridge_avg_rmse, key=ridge_avg_rmse.get)\n",
    "print(\"Best ridge alpha: {}\".format(best_alpha_ridge))"
   ]
  },
  {
   "cell_type": "markdown",
   "metadata": {},
   "source": [
    "### 2)"
   ]
  },
  {
   "cell_type": "code",
   "execution_count": 5,
   "metadata": {
    "collapsed": true
   },
   "outputs": [],
   "source": [
    "alphas = 10**np.linspace(10,-2,100)*0.5\n",
    "\n",
    "ridge = linear_model.Ridge(alpha=alpha)\n",
    "coefs = []\n",
    "\n",
    "for a in alphas:\n",
    "    ridge.set_params(alpha=a)\n",
    "    ridge.fit(X_train, y_train)\n",
    "    coefs.append(ridge.coef_)\n",
    "\n",
    "plt.figure()\n",
    "ax = plt.gca()\n",
    "ax.plot(alphas, coefs)\n",
    "ax.set_xscale('log')\n",
    "ax.set_xlim(ax.get_xlim()[::-1])  # reverse axis\n",
    "plt.axis('tight')\n",
    "plt.xlabel('alpha')\n",
    "plt.ylabel('weights')\n",
    "plt.title('Ridge coefficients as a function of the regularization');"
   ]
  },
  {
   "cell_type": "code",
   "execution_count": 6,
   "metadata": {
    "collapsed": true
   },
   "outputs": [],
   "source": [
    "alphas = 10**np.linspace(10,-2,100)*0.5\n",
    "\n",
    "lasso = linear_model.Lasso(alpha=alpha)\n",
    "coefs = []\n",
    "\n",
    "for a in alphas:\n",
    "    lasso.set_params(alpha=a)\n",
    "    lasso.fit(X_train, y_train)\n",
    "    coefs.append(lasso.coef_)\n",
    "\n",
    "plt.figure()\n",
    "ax = plt.gca()\n",
    "ax.plot(alphas, coefs)\n",
    "ax.set_xscale('log')\n",
    "ax.set_xlim(ax.get_xlim()[::-1])  # reverse axis\n",
    "plt.axis('tight')\n",
    "plt.xlabel('alpha')\n",
    "plt.ylabel('weights')\n",
    "plt.title('Lasso coefficients as a function of the regularization');"
   ]
  },
  {
   "cell_type": "markdown",
   "metadata": {},
   "source": [
    "Lasso tends to zero out the feature coefficients while Ridge decreases the magnitude of the feature coefficients."
   ]
  },
  {
   "cell_type": "markdown",
   "metadata": {},
   "source": [
    "### 3)"
   ]
  },
  {
   "cell_type": "code",
   "execution_count": 7,
   "metadata": {},
   "outputs": [
    {
     "name": "stdout",
     "output_type": "stream",
     "text": [
      "MSE for linear: 3377.94455926\n",
      "MSE for ridge: 2959.81880664\n",
      "MSE for lasso: 2972.25999624\n"
     ]
    }
   ],
   "source": [
    "#%% (3) - train and test MSE\n",
    "linear_clf = linear_model.LinearRegression()\n",
    "ridge_clf = linear_model.Ridge(alpha=best_alpha_ridge)\n",
    "lasso_clf = linear_model.Lasso(alpha=best_alpha_lasso)\n",
    "\n",
    "def fit_reg(model, name):\n",
    "    model.fit(X_train, y_train)\n",
    "    pred = model.predict(X_test)\n",
    "    mse = mean_squared_error(pred, y_test)\n",
    "    print(\"MSE for {0}: {1}\".format(name, mse))\n",
    "\n",
    "fit_reg(linear_clf, \"linear\")\n",
    "fit_reg(ridge_clf, \"ridge\")\n",
    "fit_reg(lasso_clf, \"lasso\")"
   ]
  },
  {
   "cell_type": "markdown",
   "metadata": {},
   "source": [
    "### 4)"
   ]
  },
  {
   "cell_type": "code",
   "execution_count": 8,
   "metadata": {},
   "outputs": [
    {
     "name": "stdout",
     "output_type": "stream",
     "text": [
      "0.00598825050149\n"
     ]
    }
   ],
   "source": [
    "lassocv = LassoCV(alphas=None, cv=10, max_iter=10000)\n",
    "lassocv.fit(X_train, y_train)\n",
    "print lassocv.alpha_"
   ]
  },
  {
   "cell_type": "code",
   "execution_count": 9,
   "metadata": {},
   "outputs": [
    {
     "name": "stdout",
     "output_type": "stream",
     "text": [
      "2977.9684786\n"
     ]
    }
   ],
   "source": [
    "lasso.set_params(alpha=lassocv.alpha_)\n",
    "lasso.fit(X_train, y_train)\n",
    "print mean_squared_error(y_test, lasso.predict(X_test))"
   ]
  },
  {
   "cell_type": "code",
   "execution_count": 10,
   "metadata": {},
   "outputs": [
    {
     "name": "stdout",
     "output_type": "stream",
     "text": [
      "0       -8.945181\n",
      "1     -197.429177\n",
      "2      565.596546\n",
      "3      346.757826\n",
      "4     -946.194163\n",
      "5      732.361940\n",
      "6       66.314443\n",
      "7        0.000000\n",
      "8      826.206133\n",
      "9        6.442448\n",
      "10    2520.577652\n",
      "11       0.000000\n",
      "12       0.000000\n",
      "13       0.000000\n",
      "14      -0.000000\n",
      "15       0.000000\n",
      "16       0.000000\n",
      "17    1532.331575\n",
      "18      -0.000000\n",
      "19       0.000000\n",
      "20     682.004315\n",
      "21       0.000000\n",
      "22       0.000000\n",
      "23       0.000000\n",
      "24   -1215.558781\n",
      "25       0.000000\n",
      "26       0.000000\n",
      "27    1076.317504\n",
      "28       0.000000\n",
      "29       0.000000\n",
      "30      -0.000000\n",
      "31       0.000000\n",
      "32       0.000000\n",
      "33    1151.350615\n",
      "34      80.803344\n",
      "35       0.000000\n",
      "36     682.635731\n",
      "37      -0.000000\n",
      "38       0.000000\n",
      "39      -0.000000\n",
      "40       0.000000\n",
      "41       0.000000\n",
      "42      -0.000000\n",
      "43       0.000000\n",
      "44       0.000000\n",
      "45      -0.000000\n",
      "46      -0.000000\n",
      "47     585.751561\n",
      "48       0.000000\n",
      "49      -0.000000\n",
      "50       0.000000\n",
      "51       0.000000\n",
      "52       0.000000\n",
      "53     966.133960\n",
      "54       0.000000\n",
      "dtype: float64\n"
     ]
    }
   ],
   "source": [
    "print pd.Series(lasso.coef_)"
   ]
  },
  {
   "cell_type": "markdown",
   "metadata": {},
   "source": [
    "Some of the coefficients are now reduced to exactly zero."
   ]
  },
  {
   "cell_type": "markdown",
   "metadata": {},
   "source": [
    "# Multi-layer Perceptron Regressor\n",
    "\n",
    "In this question, you will explore the application of Multi-layer Perceptron (MLP) regression using sklearn package in Python. We will use the Boston house-prices dataset for this problem http://scikit-learn.org/stable/modules/generated/sklearn.datasets.load_boston.html.\n"
   ]
  },
  {
   "cell_type": "markdown",
   "metadata": {},
   "source": [
    "One more thing to use in this problem is [StandardScaler](http://scikit-learn.org/stable/modules/generated/sklearn.preprocessing.StandardScaler.html). Instead of fitting a model on original data, use StandardScaler to make each feature centered ([Example](http://scikit-learn.org/stable/auto_examples/applications/plot_prediction_latency.html#sphx-glr-auto-examples-applications-plot-prediction-latency-py)). Whenever you have training and test data, fit a scaler on training data and use this scaler on test data. Here, scale only features (independent variables), not target variable y.\n",
    "\n",
    "Use [sklearn.neural_nework.MLPRegressor](http://scikit-learn.org/stable/modules/generated/sklearn.neural_network.MLPRegressor.html#sklearn.neural_network.MLPRegressor) to do a 5-fold cross validation using sklearn's [KFold](http://scikit-learn.org/stable/modules/generated/sklearn.model_selection.KFold.html#sklearn.model_selection.KFold). The cross validation must be performed on the **training data**. "
   ]
  },
  {
   "cell_type": "markdown",
   "metadata": {},
   "source": [
    "1) Use following parameter settings for MLPRegressor:\n",
    "\n",
    "    activation = 'tanh', solver = 'sgd', learning_rate='constant', random_state=42,\n",
    "    batch_size=40, learning_rate_init = 0.005\n",
    "    \n",
    "Now, consider three different settings for the number of hidden units:\n",
    "    \n",
    "   (a) *hidden_layer_sizes = (2,)* (b) *hidden_layer_sizes = (8,)* (c) *hidden_layer_sizes = (15,)*\n",
    "    \n",
    "   Report the average Root Mean Squared Error (RMSE) value based on your 5-fold cross validation for each model: (a), (b), and (c) (5pts)\n",
    "      \n",
    "2) Now, using the same number of hidden units used in part 1), train MLPRegressor models on whole training data and report RMSE score for both Train and Test set (Again, use StandardScaler). Which model works the best, (a), (b), or (c)? Briefly analyze the result in terms of the number of hidden units. (3pts)\n",
    "\n",
    "3) MLPRegressor has a built-in attribute *loss\\_curve\\_* which returns the loss at each epoch (misleadingly referred to as \"iteration\" in scikit documentation, though they use epoch in the actual code!). For example, if your model is named as *my_model* you can call it as *my\\_model.loss\\_curve\\_* ([example](http://scikit-learn.org/stable/auto_examples/neural_networks/plot_mlp_training_curves.html#sphx-glr-auto-examples-neural-networks-plot-mlp-training-curves-py)). Plot three curves for model (a), (b), and (c) in one figure, where *X-axis* is epoch  number and *Y-axis* is squared root of *loss\\_curve\\_* value. (2pts)\n",
    "\n",
    "4) Use following parameter settings for MLPRegressor:\n",
    "\n",
    "    activation = 'tanh', solver = 'sgd', learning_rate='constant', random_state=42,\n",
    "    batch_size=40, hidden_layer_sizes = (15,)\n",
    "    \n",
    "Now, consider three different settings for the learning rates:\n",
    "    \n",
    "   (i) *learning_rate_init = 0.005* (ii) *learning_rate_init = 0.01* (iii) *learning_rate_init = 1*\n",
    "    \n",
    "   Report the average Root Mean Squared Error (RMSE) value based on your 5-fold cross validation for each model: (i), (ii), and (iii) (5pts)\n",
    "\n"
   ]
  },
  {
   "cell_type": "code",
   "execution_count": 11,
   "metadata": {
    "collapsed": true
   },
   "outputs": [],
   "source": [
    "import pandas as pd\n",
    "import numpy as np\n",
    "from sklearn.model_selection import (train_test_split,KFold)\n",
    "from sklearn.metrics import mean_squared_error\n",
    "from sklearn.neural_network import MLPRegressor\n",
    "from sklearn.preprocessing import StandardScaler\n",
    "import matplotlib.pyplot as plt\n",
    "%matplotlib inline\n",
    "\n",
    "from sklearn import datasets\n",
    "data = datasets.load_boston()\n",
    "feature_cols = data.feature_names\n",
    "X = pd.DataFrame(data.data, columns = feature_cols)\n",
    "y = pd.Series(data.target)\n",
    "\n",
    "X_train, X_test, y_train, y_test = train_test_split(X,y,test_size = 0.33, random_state=42)\n"
   ]
  },
  {
   "cell_type": "markdown",
   "metadata": {},
   "source": [
    "## Solution\n",
    "\n",
    "### 1)"
   ]
  },
  {
   "cell_type": "code",
   "execution_count": 12,
   "metadata": {},
   "outputs": [
    {
     "name": "stdout",
     "output_type": "stream",
     "text": [
      "<hidden layer: (2,)>\n",
      " Average RMSE (CV): 5.65299177605\n",
      "\n",
      "<hidden layer: (8,)>\n",
      " Average RMSE (CV): 4.45561264758\n",
      "\n",
      "<hidden layer: (15,)>\n",
      " Average RMSE (CV): 3.82804387751\n",
      "\n"
     ]
    }
   ],
   "source": [
    "param_hidden_layers = [(2,),(8,),(15,)]\n",
    "\n",
    "n_folds = 5\n",
    "k_folds = KFold(n_splits=n_folds)\n",
    "lrate = 0.005\n",
    "\n",
    "for param_hidden in param_hidden_layers:\n",
    "    aRMSE = 0\n",
    "    for train_idx, test_idx in k_folds.split(X_train):\n",
    "        regMLP = MLPRegressor(activation = 'tanh',\n",
    "                              solver = 'sgd',\n",
    "                              learning_rate='constant',\n",
    "                              random_state=42,\n",
    "                              batch_size=40,\n",
    "                              learning_rate_init = lrate,\n",
    "                              hidden_layer_sizes = param_hidden)\n",
    "        stdScaler = StandardScaler()\n",
    "        xTrain = stdScaler.fit_transform(X_train.iloc[train_idx,:])\n",
    "        yTrain = y_train.iloc[train_idx]\n",
    "            \n",
    "        regMLP.fit(xTrain,yTrain)\n",
    "        aRMSE += np.sqrt(mean_squared_error(y_train.iloc[test_idx],\n",
    "                                            regMLP.predict(stdScaler.transform(X_train.iloc[test_idx,:]))))/n_folds\n",
    "    \n",
    "    print '<hidden layer: {}>\\n Average RMSE (CV): {}\\n'.format(param_hidden,aRMSE)\n"
   ]
  },
  {
   "cell_type": "markdown",
   "metadata": {},
   "source": [
    "### 2)"
   ]
  },
  {
   "cell_type": "code",
   "execution_count": 13,
   "metadata": {},
   "outputs": [
    {
     "name": "stdout",
     "output_type": "stream",
     "text": [
      "<hidden layer: (2,)>\n",
      " RMSE (Train) = 5.02382771248, RMSE (Test) = 4.96115622735\n",
      "\n",
      "<hidden layer: (8,)>\n",
      " RMSE (Train) = 2.55815487937, RMSE (Test) = 4.27238345715\n",
      "\n",
      "<hidden layer: (15,)>\n",
      " RMSE (Train) = 1.96487751008, RMSE (Test) = 3.93351931643\n",
      "\n"
     ]
    }
   ],
   "source": [
    "lrate = 0.005\n",
    "param_hidden_layers = [(2,),(8,),(15,)]\n",
    "\n",
    "RMSE_train_test = {}\n",
    "regMLPs = {}\n",
    "for param_hidden in param_hidden_layers:\n",
    "    regMLP = MLPRegressor(activation = 'tanh',\n",
    "                          solver = 'sgd',\n",
    "                          learning_rate='constant',\n",
    "                          random_state=42,\n",
    "                          batch_size=40,\n",
    "                          learning_rate_init = lrate,\n",
    "                          hidden_layer_sizes = param_hidden)\n",
    "    stdScaler = StandardScaler()\n",
    "    xTrain = stdScaler.fit_transform(X_train)\n",
    "    regMLP.fit(xTrain,y_train)\n",
    "    RMSE_train_test[param_hidden] = [np.sqrt(mean_squared_error(y_train,regMLP.predict(xTrain))),\n",
    "                                     np.sqrt(mean_squared_error(y_test,regMLP.predict(stdScaler.transform(X_test))))]\n",
    "    \n",
    "    regMLPs[param_hidden] = regMLP\n",
    "    \n",
    "    print '<hidden layer: {}>\\n RMSE (Train) = {}, RMSE (Test) = {}\\n'.format(param_hidden,\n",
    "                                                                              RMSE_train_test[param_hidden][0],\n",
    "                                                                              RMSE_train_test[param_hidden][1])"
   ]
  },
  {
   "cell_type": "markdown",
   "metadata": {},
   "source": [
    "MLP regressor with 15 hidden units performed better than the other two models. Increasing number of hidden units is directly related to the complexity of model, and this regression problem was better fit by the more complex model.\n",
    "\n",
    "(Note: Increasing the number of hidden units and hidden layers will make model more complex. However, excessive number of hidden units and hidden layers can also hurt your model by leading it to overfit.)"
   ]
  },
  {
   "cell_type": "markdown",
   "metadata": {},
   "source": [
    "## 3)"
   ]
  },
  {
   "cell_type": "code",
   "execution_count": 14,
   "metadata": {},
   "outputs": [
    {
     "data": {
      "text/plain": [
       "<matplotlib.text.Text at 0x1181a64d0>"
      ]
     },
     "execution_count": 14,
     "metadata": {},
     "output_type": "execute_result"
    },
    {
     "data": {
      "image/png": "[encoded data removed]",
      "text/plain": [
       "<matplotlib.figure.Figure at 0x116c7c5d0>"
      ]
     },
     "metadata": {},
     "output_type": "display_data"
    }
   ],
   "source": [
    "for param_hidden in param_hidden_layers:\n",
    "    regMLP = regMLPs[param_hidden]\n",
    "    plt.plot(np.sqrt(regMLP.loss_curve_), label = str(param_hidden))\n",
    "\n",
    "plt.legend()\n",
    "plt.ylabel('RMSE')\n",
    "plt.xlabel('epoch number')"
   ]
  },
  {
   "cell_type": "markdown",
   "metadata": {},
   "source": [
    "## 4)"
   ]
  },
  {
   "cell_type": "code",
   "execution_count": 15,
   "metadata": {},
   "outputs": [
    {
     "name": "stdout",
     "output_type": "stream",
     "text": [
      "<learning rate: 0.005>\n",
      " Average RMSE (CV): 3.82804387751\n",
      "\n",
      "<learning rate: 0.01>\n",
      " Average RMSE (CV): 4.36444577137\n",
      "\n",
      "<learning rate: 1>\n",
      " Average RMSE (CV): 3.91685403205e+31\n",
      "\n"
     ]
    }
   ],
   "source": [
    "X_train, X_test, y_train, y_test = train_test_split(X,y,test_size = 0.33, random_state=42)\n",
    "\n",
    "param_hidden_layers = (15,)\n",
    "\n",
    "n_folds = 5\n",
    "k_folds = KFold(n_splits=n_folds)\n",
    "lrate = [0.005, 0.01, 1]\n",
    "\n",
    "for lrate_ in lrate:\n",
    "    aRMSE = 0\n",
    "    for train_idx, test_idx in k_folds.split(X_train):\n",
    "        regMLP = MLPRegressor(activation = 'tanh',\n",
    "                              solver = 'sgd',\n",
    "                              learning_rate='constant',\n",
    "                              random_state=42,\n",
    "                              batch_size=40,\n",
    "                              learning_rate_init = lrate_,\n",
    "                              hidden_layer_sizes = param_hidden)\n",
    "        stdScaler = StandardScaler()\n",
    "        xTrain = stdScaler.fit_transform(X_train.iloc[train_idx,:])\n",
    "        yTrain = y_train.iloc[train_idx]\n",
    "            \n",
    "        regMLP.fit(xTrain,yTrain)\n",
    "        aRMSE += np.sqrt(mean_squared_error(y_train.iloc[test_idx],\n",
    "                                            regMLP.predict(stdScaler.transform(X_train.iloc[test_idx,:]))))/n_folds\n",
    "    \n",
    "    print '<learning rate: {}>\\n Average RMSE (CV): {}\\n'.format(lrate_,aRMSE)\n"
   ]
  }
 ],
 "metadata": {
  "anaconda-cloud": {},
  "kernelspec": {
   "display_name": "Python 2",
   "language": "python",
   "name": "python2"
  },
  "language_info": {
   "codemirror_mode": {
    "name": "ipython",
    "version": 2
   },
   "file_extension": ".py",
   "mimetype": "text/x-python",
   "name": "python",
   "nbconvert_exporter": "python",
   "pygments_lexer": "ipython2",
   "version": "2.7.13"
  }
 },
 "nbformat": 4,
 "nbformat_minor": 1
}
