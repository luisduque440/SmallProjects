{
 "cells": [
  {
   "cell_type": "markdown",
   "metadata": {},
   "source": [
    "# Logistic Regression \n",
    "In this question, we will explore the use of Logistic Regression. We use MAGIC Gamma Telescope Data Set. The dataset can be found at https://archive.ics.uci.edu/ml/datasets/MAGIC+Gamma+Telescope. It has 19020 instances with 11 attributes. The task is to classify the instance as signal (target = 1, positive) or background (target = 0, negative).\n",
    "The data have been split into training and test datasets. You can find them in the Q3&Q4 folder. Standardize the columns so they all have mean 0 and unit variance.\n",
    "\n",
    "(a) (6 pts) Fit a ridge logistic regression (i.e., logistic regression with a ridge penalty) model using scikit learn package. Use 10-fold cross-validation to choose the strength of the regularization ('C' parameter). Maintain all other parameters as default. Report the mean error rate (fraction of incorrect labels) on both the training and test sets.\n",
    "\n",
    "(b) (4 pts) Plot the receiver operating characteristic (ROC) curve on the test data. Report the area under the ROC curve (AUC).\n",
    "\n",
    "Hint: see http://scikit-learn.org/stable/auto_examples/model_selection/plot_roc.html  and \n",
    "\n",
    "http://scikit-learn.org/stable/modules/generated/sklearn.metrics.auc.html"
   ]
  },
  {
   "cell_type": "code",
   "execution_count": 17,
   "metadata": {},
   "outputs": [
    {
     "name": "stdout",
     "output_type": "stream",
     "text": [
      "The best C to Logistic Regression is 2.78255940221\n",
      "Mean error rate for training data is:  0.211694762191\n",
      "Mean error rate for test data is:  0.203768318214\n"
     ]
    }
   ],
   "source": [
    "## (a)\n",
    "import pandas as pd\n",
    "import numpy as np\n",
    "from sklearn import preprocessing\n",
    "from sklearn.model_selection import KFold\n",
    "from sklearn.linear_model import LogisticRegressionCV, LogisticRegression\n",
    "# load data\n",
    "# train\n",
    "train = pd.read_csv('Q3&Q4/magic_train.csv', header=None)\n",
    "train_y = train.values[:,10]\n",
    "train_x = train.values[:,:10]\n",
    "\n",
    "# test\n",
    "test = pd.read_csv('Q3&Q4/magic_test.csv', header=None)\n",
    "test_y = test.values[:,10]\n",
    "test_x = test.values[:,:10]\n",
    "\n",
    "# standardize the data\n",
    "train_x = preprocessing.scale(train_x)\n",
    "test_x = preprocessing.scale(test_x)\n",
    "\n",
    "kFold = 10\n",
    "kf = KFold(n_folds=kFold)\n",
    "lr = LogisticRegressionCV(penalty='l2', cv=kf)\n",
    "lr.fit(train_x, train_y)\n",
    "C_optimal = lr.C_[0]\n",
    "print \"The best C to Logistic Regression is\", C_optimal\n",
    "\n",
    "lr = LogisticRegression(penalty='l2', C=C_optimal)\n",
    "lr.fit(train_x, train_y)\n",
    "\n",
    "# mean error rates\n",
    "train_MER = 1 - lr.score(train_x, train_y)\n",
    "test_MER = 1 - lr.score(test_x, test_y)\n",
    "print \"Mean error rate for training data is: \", train_MER\n",
    "print \"Mean error rate for test data is: \", test_MER"
   ]
  },
  {
   "cell_type": "code",
   "execution_count": 24,
   "metadata": {},
   "outputs": [
    {
     "name": "stdout",
     "output_type": "stream",
     "text": [
      "The AUC for test data is: 0.847318037631\n"
     ]
    },
    {
     "data": {
      "image/png": "[encoded data removed]",
      "text/plain": [
       "<matplotlib.figure.Figure at 0x10dfc7250>"
      ]
     },
     "metadata": {},
     "output_type": "display_data"
    }
   ],
   "source": [
    "## (b)\n",
    "import matplotlib.pyplot as plt\n",
    "from sklearn.metrics import roc_curve, auc\n",
    "\n",
    "lr_predict_proba = lr.predict_proba(test_x)[:, 0]\n",
    "fpr, tpr, _ = roc_curve(test_y, lr_predict_proba, pos_label='g')\n",
    "roc_auc = auc(fpr, tpr)\n",
    "print \"The AUC for test data is:\", roc_auc\n",
    "\n",
    "plt.figure()\n",
    "lw = 2\n",
    "plt.plot(fpr, tpr, color='darkorange',\n",
    "         lw=lw, label='ROC curve (AUC = %0.2f)' % roc_auc)\n",
    "\n",
    "plt.plot([0, 1], [0, 1], color='black', lw=lw, linestyle='--')\n",
    "plt.xlim([0.0, 1.0])\n",
    "plt.ylim([0.0, 1.05])\n",
    "plt.grid()\n",
    "plt.xlabel('False Positive Rate')\n",
    "plt.ylabel('True Positive Rate')\n",
    "plt.legend(loc=\"lower right\")\n",
    "plt.show()"
   ]
  },
  {
   "cell_type": "markdown",
   "metadata": {},
   "source": [
    "# Support Vector Machines\n",
    "(a) (6 pts) Apply a linear SVM (kernel = 'linear'), using the scikit-SVM (http://scikit-learn.org/stable/modules/generated/sklearn.svm.SVC.html#sklearn.svm.SVC) on the standardized MAGIC Gamma Telescope Data Set. The data have been split into training and test datasets. You can find them in the Q3&Q4 folder. Standardize the columns so they all have mean 0 and unit variance. Specify how you chose the cost penalty ('C' parameter) for the model. Maintain all other parameters as default. \n",
    "\n",
    "Hint: see http://scikit-learn.org/stable/modules/generated/sklearn.grid_search.GridSearchCV.html will make 10-fold cross-validation easier. (GridSearchCV is one way to select parameters for a model. You may use it in your answer, or you may use other ways to solve the problem.)\n",
    "\n",
    "(b) (4 pts) Repeat (a) but using a Gaussian radial basis kernel (RBF kernel).\n",
    "\n",
    "(c) (4 pts) Summarize the comparative performance (mean error rates on both the training and test sets) of all the classifiers (Ridge Logistic Regression, SVM with linear kernel, SVM with RBF kernel) that you applied to the MAGIC Gamma Telescope Data Set in this homework in a table. What do you conclude? (be brief)"
   ]
  },
  {
   "cell_type": "code",
   "execution_count": 25,
   "metadata": {},
   "outputs": [
    {
     "name": "stdout",
     "output_type": "stream",
     "text": [
      "Mean error rate on training data is:  0.212522576761\n",
      "Mean error rate on test data is:  0.201500348918\n"
     ]
    }
   ],
   "source": [
    "## (a)\n",
    "import pandas as pd\n",
    "import numpy as np\n",
    "from sklearn import preprocessing\n",
    "from sklearn.svm import SVC\n",
    "from sklearn.model_selection import GridSearchCV\n",
    "# load data\n",
    "# train\n",
    "train = pd.read_csv('Q3&Q4/magic_train.csv', header=None)\n",
    "train_y = train.values[:,10]\n",
    "train_x = train.values[:,:10]\n",
    "\n",
    "# test\n",
    "test = pd.read_csv('Q3&Q4/magic_test.csv', header=None)\n",
    "test_y = test.values[:,10]\n",
    "test_x = test.values[:,:10]\n",
    "\n",
    "# standardize the data\n",
    "train_x = preprocessing.scale(train_x)\n",
    "test_x = preprocessing.scale(test_x)\n",
    "\n",
    "\n",
    "Cs = 10**np.linspace(-2, 2, 10)\n",
    "hyperpara = {'C': Cs}\n",
    "\n",
    "svc = SVC(kernel='linear')\n",
    "gs = GridSearchCV(svc, hyperpara, cv=10)\n",
    "gs.fit(train_x, train_y)\n",
    "\n",
    "C_optimal = gs.best_params_['C']\n",
    "svc = SVC(C=C_optimal, kernel='linear')\n",
    "svc.fit(train_x, train_y)\n",
    "# mean error rates\n",
    "train_linear_MER = 1-svc.score(train_x, train_y)\n",
    "test_linear_MER = 1-svc.score(test_x, test_y)\n",
    "print \"Mean error rate on training data is: \", train_linear_MER\n",
    "print \"Mean error rate on test data is: \", test_linear_MER"
   ]
  },
  {
   "cell_type": "code",
   "execution_count": 26,
   "metadata": {},
   "outputs": [
    {
     "name": "stdout",
     "output_type": "stream",
     "text": [
      "Mean error rate on training data is:  0.101444912703\n",
      "Mean error rate on test data is:  0.129797627355\n"
     ]
    }
   ],
   "source": [
    "## (b)\n",
    "svc = SVC(kernel='rbf')\n",
    "gs = GridSearchCV(svc, hyperpara, cv=10)\n",
    "gs.fit(train_x, train_y)\n",
    "\n",
    "C_optimal = gs.best_params_['C']\n",
    "svc = SVC(C=C_optimal, kernel='rbf')\n",
    "svc.fit(train_x, train_y)\n",
    "# mean error rates\n",
    "train_rbf_MER = 1-svc.score(train_x, train_y)\n",
    "test_rbf_MER = 1-svc.score(test_x, test_y)\n",
    "print \"Mean error rate on training data is: \", train_rbf_MER\n",
    "print \"Mean error rate on test data is: \", test_rbf_MER"
   ]
  },
  {
   "cell_type": "markdown",
   "metadata": {},
   "source": [
    "# (c)\n",
    "|                           | MER on training data | MER on test data |\n",
    "|-------------------------- |----------------------| -----------------|\n",
    "|Ridge Logistic Regression  | 0.211694762191       | 0.201500348918   |\n",
    "|SVM with linear kernel     | 0.212522576761       | 0.201500348918   |\n",
    "|SVM with RBF kernel        | 0.101444912703       | 0.129797627355   |\n",
    "\n",
    "From the table, SVM with RBF kernal has the best performance."
   ]
  }
 ],
 "metadata": {
  "kernelspec": {
   "display_name": "Python 2",
   "language": "python",
   "name": "python2"
  },
  "language_info": {
   "codemirror_mode": {
    "name": "ipython",
    "version": 2
   },
   "file_extension": ".py",
   "mimetype": "text/x-python",
   "name": "python",
   "nbconvert_exporter": "python",
   "pygments_lexer": "ipython2",
   "version": "2.7.13"
  }
 },
 "nbformat": 4,
 "nbformat_minor": 2
}
