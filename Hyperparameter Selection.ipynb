{
 "cells": [
  {
   "cell_type": "code",
   "execution_count": 1,
   "metadata": {
    "collapsed": true
   },
   "outputs": [],
   "source": [
    "from pydataset import data\n",
    "from sklearn.cross_validation import train_test_split\n",
    "import pandas as pd"
   ]
  },
  {
   "cell_type": "markdown",
   "metadata": {},
   "source": [
    "## Get data"
   ]
  },
  {
   "cell_type": "code",
   "execution_count": 2,
   "metadata": {
    "collapsed": false
   },
   "outputs": [],
   "source": [
    "df = data(\"Males\")"
   ]
  },
  {
   "cell_type": "code",
   "execution_count": 3,
   "metadata": {
    "collapsed": false
   },
   "outputs": [
    {
     "data": {
      "text/html": [
       "<div style=\"max-height:1000px;max-width:1500px;overflow:auto;\">\n",
       "<table border=\"1\" class=\"dataframe\">\n",
       "  <thead>\n",
       "    <tr style=\"text-align: right;\">\n",
       "      <th></th>\n",
       "      <th>nr</th>\n",
       "      <th>year</th>\n",
       "      <th>school</th>\n",
       "      <th>exper</th>\n",
       "      <th>union</th>\n",
       "      <th>ethn</th>\n",
       "      <th>married</th>\n",
       "      <th>health</th>\n",
       "      <th>wage</th>\n",
       "      <th>industry</th>\n",
       "      <th>occupation</th>\n",
       "      <th>residence</th>\n",
       "    </tr>\n",
       "  </thead>\n",
       "  <tbody>\n",
       "    <tr>\n",
       "      <th>1</th>\n",
       "      <td>13</td>\n",
       "      <td>1980</td>\n",
       "      <td>14</td>\n",
       "      <td>1</td>\n",
       "      <td>no</td>\n",
       "      <td>other</td>\n",
       "      <td>no</td>\n",
       "      <td>no</td>\n",
       "      <td>1.197540</td>\n",
       "      <td>Business_and_Repair_Service</td>\n",
       "      <td>Service_Workers</td>\n",
       "      <td>north_east</td>\n",
       "    </tr>\n",
       "    <tr>\n",
       "      <th>2</th>\n",
       "      <td>13</td>\n",
       "      <td>1981</td>\n",
       "      <td>14</td>\n",
       "      <td>2</td>\n",
       "      <td>yes</td>\n",
       "      <td>other</td>\n",
       "      <td>no</td>\n",
       "      <td>no</td>\n",
       "      <td>1.853060</td>\n",
       "      <td>Personal_Service</td>\n",
       "      <td>Service_Workers</td>\n",
       "      <td>north_east</td>\n",
       "    </tr>\n",
       "    <tr>\n",
       "      <th>3</th>\n",
       "      <td>13</td>\n",
       "      <td>1982</td>\n",
       "      <td>14</td>\n",
       "      <td>3</td>\n",
       "      <td>no</td>\n",
       "      <td>other</td>\n",
       "      <td>no</td>\n",
       "      <td>no</td>\n",
       "      <td>1.344462</td>\n",
       "      <td>Business_and_Repair_Service</td>\n",
       "      <td>Service_Workers</td>\n",
       "      <td>north_east</td>\n",
       "    </tr>\n",
       "    <tr>\n",
       "      <th>4</th>\n",
       "      <td>13</td>\n",
       "      <td>1983</td>\n",
       "      <td>14</td>\n",
       "      <td>4</td>\n",
       "      <td>no</td>\n",
       "      <td>other</td>\n",
       "      <td>no</td>\n",
       "      <td>no</td>\n",
       "      <td>1.433213</td>\n",
       "      <td>Business_and_Repair_Service</td>\n",
       "      <td>Service_Workers</td>\n",
       "      <td>north_east</td>\n",
       "    </tr>\n",
       "    <tr>\n",
       "      <th>5</th>\n",
       "      <td>13</td>\n",
       "      <td>1984</td>\n",
       "      <td>14</td>\n",
       "      <td>5</td>\n",
       "      <td>no</td>\n",
       "      <td>other</td>\n",
       "      <td>no</td>\n",
       "      <td>no</td>\n",
       "      <td>1.568125</td>\n",
       "      <td>Personal_Service</td>\n",
       "      <td>Craftsmen, Foremen_and_kindred</td>\n",
       "      <td>north_east</td>\n",
       "    </tr>\n",
       "  </tbody>\n",
       "</table>\n",
       "</div>"
      ],
      "text/plain": [
       "   nr  year  school  exper union   ethn married health      wage  \\\n",
       "1  13  1980      14      1    no  other      no     no  1.197540   \n",
       "2  13  1981      14      2   yes  other      no     no  1.853060   \n",
       "3  13  1982      14      3    no  other      no     no  1.344462   \n",
       "4  13  1983      14      4    no  other      no     no  1.433213   \n",
       "5  13  1984      14      5    no  other      no     no  1.568125   \n",
       "\n",
       "                      industry                      occupation   residence  \n",
       "1  Business_and_Repair_Service                 Service_Workers  north_east  \n",
       "2             Personal_Service                 Service_Workers  north_east  \n",
       "3  Business_and_Repair_Service                 Service_Workers  north_east  \n",
       "4  Business_and_Repair_Service                 Service_Workers  north_east  \n",
       "5             Personal_Service  Craftsmen, Foremen_and_kindred  north_east  "
      ]
     },
     "execution_count": 3,
     "metadata": {},
     "output_type": "execute_result"
    }
   ],
   "source": [
    "df.head()"
   ]
  },
  {
   "cell_type": "markdown",
   "metadata": {},
   "source": [
    "## Create dummy variables and split data"
   ]
  },
  {
   "cell_type": "code",
   "execution_count": 4,
   "metadata": {
    "collapsed": true
   },
   "outputs": [],
   "source": [
    "dummy_vars = ['school', 'union', 'ethn', 'married', 'health', 'industry', 'occupation', 'residence']\n",
    "df_dummies = pd.get_dummies(df, columns=dummy_vars)"
   ]
  },
  {
   "cell_type": "code",
   "execution_count": 5,
   "metadata": {
    "collapsed": false
   },
   "outputs": [],
   "source": [
    "y = df.wage\n",
    "del df_dummies['wage']\n",
    "X = df_dummies\n",
    "X_train, X_test, y_train, y_test = train_test_split(X, y, test_size=0.33, random_state=42)"
   ]
  },
  {
   "cell_type": "markdown",
   "metadata": {},
   "source": [
    "## First Model - Random Forest"
   ]
  },
  {
   "cell_type": "code",
   "execution_count": 6,
   "metadata": {
    "collapsed": false
   },
   "outputs": [
    {
     "name": "stdout",
     "output_type": "stream",
     "text": [
      "MSE: 0.208287219606\n"
     ]
    }
   ],
   "source": [
    "from sklearn.ensemble import RandomForestRegressor\n",
    "from sklearn.metrics import mean_squared_error\n",
    "clf = RandomForestRegressor()\n",
    "clf.fit(X_train, y_train)\n",
    "predictions = clf.predict(X_test)\n",
    "print(\"MSE: {}\".format(mean_squared_error(predictions, y_test)))"
   ]
  },
  {
   "cell_type": "markdown",
   "metadata": {},
   "source": [
    "## Grid Search Hyperparameters"
   ]
  },
  {
   "cell_type": "code",
   "execution_count": 8,
   "metadata": {
    "collapsed": false
   },
   "outputs": [
    {
     "name": "stdout",
     "output_type": "stream",
     "text": [
      "MSE: 0.193103387872\n",
      "MAE: 0.29340976703\n"
     ]
    }
   ],
   "source": [
    "from sklearn.grid_search import GridSearchCV\n",
    "import numpy as np\n",
    "parameters = {'n_estimators':[10, 100, 1000], 'max_features': ['auto', 'sqrt', 'log2']}\n",
    "model = RandomForestRegressor()\n",
    "clf = GridSearchCV(model, parameters, cv=5, n_jobs=6)\n",
    "clf.fit(X_train, y_train)\n",
    "predictions = clf.predict(X_test)\n",
    "print(\"MSE: {}\".format(mean_squared_error(predictions, y_test)))\n",
    "print(\"MAE: {}\".format(np.mean(np.abs(predictions - y_test))))"
   ]
  },
  {
   "cell_type": "markdown",
   "metadata": {},
   "source": [
    "## Custom Scoring Function - Maximizes Score"
   ]
  },
  {
   "cell_type": "code",
   "execution_count": 9,
   "metadata": {
    "collapsed": false
   },
   "outputs": [
    {
     "name": "stdout",
     "output_type": "stream",
     "text": [
      "MSE: 0.193477716119\n",
      "MAE: 0.294052963377\n"
     ]
    }
   ],
   "source": [
    "def mean_abs_error(estimator, X, y):\n",
    "    predictions = estimator.predict(X)\n",
    "    return -np.mean(np.abs(predictions - y))\n",
    "\n",
    "clf = GridSearchCV(model, parameters, cv=5, n_jobs=6, scoring=mean_abs_error)\n",
    "clf.fit(X_train, y_train)\n",
    "predictions = clf.predict(X_test)\n",
    "print(\"MSE: {}\".format(mean_squared_error(predictions, y_test)))\n",
    "print(\"MAE: {}\".format(np.mean(np.abs(predictions - y_test))))"
   ]
  },
  {
   "cell_type": "markdown",
   "metadata": {},
   "source": [
    "## Random Search"
   ]
  },
  {
   "cell_type": "code",
   "execution_count": 10,
   "metadata": {
    "collapsed": false
   },
   "outputs": [
    {
     "name": "stdout",
     "output_type": "stream",
     "text": [
      "MSE: 0.192518791677\n",
      "MAE: 0.290623108254\n"
     ]
    }
   ],
   "source": [
    "from scipy.stats import randint as sp_randint\n",
    "from sklearn.grid_search import RandomizedSearchCV\n",
    "parameters = {'n_estimators':[10, 100, 1000], \"max_features\": sp_randint(1, 11)}\n",
    "clf = RandomizedSearchCV(model, param_distributions=parameters, cv=5, n_jobs=6,\n",
    "                                   scoring=mean_abs_error, n_iter=10)\n",
    "clf.fit(X_train, y_train)\n",
    "predictions = clf.predict(X_test)\n",
    "print(\"MSE: {}\".format(mean_squared_error(predictions, y_test)))\n",
    "print(\"MAE: {}\".format(np.mean(np.abs(predictions - y_test))))"
   ]
  }
 ],
 "metadata": {
  "kernelspec": {
   "display_name": "Python 2",
   "language": "python",
   "name": "python2"
  },
  "language_info": {
   "codemirror_mode": {
    "name": "ipython",
    "version": 2
   },
   "file_extension": ".py",
   "mimetype": "text/x-python",
   "name": "python",
   "nbconvert_exporter": "python",
   "pygments_lexer": "ipython2",
   "version": "2.7.11"
  }
 },
 "nbformat": 4,
 "nbformat_minor": 0
}
